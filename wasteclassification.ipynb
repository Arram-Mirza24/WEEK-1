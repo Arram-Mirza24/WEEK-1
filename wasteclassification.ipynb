{
  "nbformat": 4,
  "nbformat_minor": 0,
  "metadata": {
    "colab": {
      "provenance": []
    },
    "kernelspec": {
      "name": "python3",
      "display_name": "Python 3"
    },
    "language_info": {
      "name": "python"
    }
  },
  "cells": [
    {
      "cell_type": "code",
      "execution_count": 1,
      "metadata": {
        "colab": {
          "base_uri": "https://localhost:8080/"
        },
        "id": "Rw7zwmCOmedd",
        "outputId": "3b474f1f-8b32-4c91-c8fd-e96c74633f24"
      },
      "outputs": [
        {
          "output_type": "stream",
          "name": "stdout",
          "text": [
            "Requirement already satisfied: opencv-python in /usr/local/lib/python3.11/dist-packages (4.10.0.84)\n",
            "Requirement already satisfied: numpy>=1.21.2 in /usr/local/lib/python3.11/dist-packages (from opencv-python) (1.26.4)\n"
          ]
        }
      ],
      "source": [
        "pip install opencv-python"
      ]
    },
    {
      "cell_type": "code",
      "source": [
        "#pip install tenserflow"
      ],
      "metadata": {
        "id": "O3goHqMTpOr9"
      },
      "execution_count": 3,
      "outputs": []
    },
    {
      "cell_type": "code",
      "source": [
        "# Importing necessary libraries"
      ],
      "metadata": {
        "id": "Q083eWWupkiE"
      },
      "execution_count": 4,
      "outputs": []
    },
    {
      "cell_type": "code",
      "source": [
        "import numpy as np\n",
        "import pandas as pd\n",
        "import matplotlib.pyplot as plt\n",
        "import numpy as np\n",
        "import pandas as pd\n",
        "import matplotlib.pyplot as plt\n",
        "import cv2\n",
        "from tqdm import tqdm\n",
        "import warnings\n",
        "warnings.filterwarnings('ignore')"
      ],
      "metadata": {
        "id": "IjxCTjDYqI8T"
      },
      "execution_count": 6,
      "outputs": []
    },
    {
      "cell_type": "code",
      "source": [
        "train_path = 'train'\n",
        "test_path = 'test'"
      ],
      "metadata": {
        "id": "Hs57ELg3rFVU"
      },
      "execution_count": 7,
      "outputs": []
    },
    {
      "source": [
        "#Importing  libraries related to tenserflow\n",
        "from tensorflow.keras.models import Sequential # Changed 'keas' to 'keras'\n",
        "from tensorflow.keras.layers import  Dense, Dropout, Flatten, Activation, BatchNormalization\n",
        "from tensorflow.keras.layers import Conv2D, MaxPooling2D\n",
        "from tensorflow.keras.utils import plot_model\n",
        "from tensorflow.keras.preprocessing.image import ImageDataGenerator, load_img, img_to_array # Removed extra comma\n",
        "from glob import glob"
      ],
      "cell_type": "code",
      "metadata": {
        "id": "6-PJho7yt8rb"
      },
      "execution_count": 9,
      "outputs": []
    },
    {
      "cell_type": "code",
      "source": [
        "#Visualization\n",
        "x_data = []\n",
        "y_data =[]\n",
        "for category in glob(train_path+'/*'):\n",
        "  for file in tqdm(glob(category+'/*')):\n",
        "    img_array = cv2.imread(file)\n",
        "    img_array = cvtColor(img_array,COLOR_BGR2RGB)\n",
        "    x_data.append(img_array)\n",
        "    y_data.append(category.split('/')[-1])\n",
        "  data = pd.DataFrame({'image':x_data,'label':y_data})\n"
      ],
      "metadata": {
        "id": "axvQ50tJuBvc"
      },
      "execution_count": 10,
      "outputs": []
    },
    {
      "source": [
        "#Visualization\n",
        "x_data = []\n",
        "y_data =[]\n",
        "for category in glob(train_path+'/*'):\n",
        "  for file in tqdm(glob(category+'/*')):\n",
        "    img_array = cv2.imread(file)\n",
        "    # Make sure cv2.cvtColor and cv2.COLOR_BGR2RGB are used\n",
        "    img_array = cv2.cvtColor(img_array, cv2.COLOR_BGR2RGB)\n",
        "    x_data.append(img_array)\n",
        "    y_data.append(category.split('/')[-1])\n",
        "# Create the DataFrame outside the loop\n",
        "data = pd.DataFrame({'image':x_data,'label':y_data})\n",
        "\n",
        "data.shape"
      ],
      "cell_type": "code",
      "metadata": {
        "colab": {
          "base_uri": "https://localhost:8080/"
        },
        "id": "XrLAB3TTwlzl",
        "outputId": "b38fe89e-40d2-417c-cbfb-ae32777e1e49"
      },
      "execution_count": 27,
      "outputs": [
        {
          "output_type": "execute_result",
          "data": {
            "text/plain": [
              "(0, 2)"
            ]
          },
          "metadata": {},
          "execution_count": 27
        }
      ]
    },
    {
      "source": [
        "colors =['#a0d157', '#c48bb8']\n",
        "# Get unique labels from your data\n",
        "labels = data['label'].unique()\n",
        "# Plot the pie chart using the unique labels\n",
        "plt.pie(data.label.value_counts(), labels=labels, autopct='%0.2f%%', colors=colors)\n",
        "plt.show()"
      ],
      "cell_type": "code",
      "metadata": {
        "colab": {
          "base_uri": "https://localhost:8080/",
          "height": 406
        },
        "id": "hPqzNtcL0YnG",
        "outputId": "e9f73e36-ee57-48e3-ae73-119e3e6eeef2"
      },
      "execution_count": 26,
      "outputs": [
        {
          "output_type": "display_data",
          "data": {
            "text/plain": [
              "<Figure size 640x480 with 1 Axes>"
            ],
            "image/png": "[encoded data removed]"
          },
          "metadata": {}
        }
      ]
    }
  ]
}